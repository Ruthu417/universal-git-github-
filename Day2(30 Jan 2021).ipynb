{
 "cells": [
  {
   "cell_type": "markdown",
   "metadata": {},
   "source": [
    "### Today Topics\n",
    "- Delete the files in commit\n",
    "    - git rm --cached filename\n",
    "- Checkout from master\n",
    "    - git checkout 7char len sha key\n",
    "    - HEAD-master will be moved to that commit\n",
    "\n",
    "- **Github Account Creation**\n",
    "- Introduction\n",
    "- Clone\n",
    "- Remote\n",
    "    - Located at github this is also called\n",
    "      remote repository\n",
    "        - push\n",
    "            - Giving files to remote      repository\n",
    "            - git remote\n",
    "            - git remote add variable link\n",
    "                - git remote add universal https://github.com/Ruthu417/Universal\n",
    "            - git push remotename branchname\n",
    "                - git push universal master\n",
    "        - pull\n",
    "            - Taking back our files from remote to repository "
   ]
  },
  {
   "cell_type": "markdown",
   "metadata": {},
   "source": [
    "git init -->(local repository)\n",
    "git add filename & git add . -->(multiple files at once)\n",
    "git commit -m \"first commit\"\n",
    "git config user.name \"you\" or git config --global user.name \"you\"\n",
    "git config user.email \"you@gmail.com\"\n",
    "git config user.name -->(to checkout your details)\n",
    "git commit -m \"first commit\"\n",
    "git status\n",
    "git rm --cached filename  -->to remove or modily file\n",
    "git checkout 7char SHA key\n",
    "git log \n",
    "git log --oneline\n",
    "git log --oneline --reverse\n",
    "git switch -\n",
    "git status\n",
    "git clone copied link\n",
    "git rev-list HEAD --count\n"
   ]
  }
 ],
 "metadata": {
  "kernelspec": {
   "display_name": "Python 3",
   "language": "python",
   "name": "python3"
  },
  "language_info": {
   "codemirror_mode": {
    "name": "ipython",
    "version": 3
   },
   "file_extension": ".py",
   "mimetype": "text/x-python",
   "name": "python",
   "nbconvert_exporter": "python",
   "pygments_lexer": "ipython3",
   "version": "3.7.4"
  }
 },
 "nbformat": 4,
 "nbformat_minor": 2
}
